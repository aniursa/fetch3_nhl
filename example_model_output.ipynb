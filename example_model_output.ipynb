{
 "cells": [
  {
   "cell_type": "markdown",
   "metadata": {},
   "source": [
    "# Examples of model output\n",
    "\n",
    "This notebook demonstrates some examples of how to visualize the model outputs"
   ]
  },
  {
   "cell_type": "markdown",
   "metadata": {},
   "source": [
    "The main 2d output files are: \n",
    "- ds_soil: variables calculated in the soil \n",
    "    - theta\n",
    "- ds_root: variables calculated in the root \n",
    "    - Kr_sink\n",
    "    - S_kr\n",
    "    - S_sink\n",
    "    - EVsink_ts : Sink term for soil \n",
    "- ds_canopy: variables calculated in the canopy\n",
    "    - S_kx\n",
    "    - trans_2d\n",
    "- ds_all: variables calculated over the entire z domain \n",
    "    - H\n",
    "    - K \n",
    "    - Capac "
   ]
  },
  {
   "cell_type": "code",
   "execution_count": null,
   "metadata": {},
   "outputs": [],
   "source": [
    "import xarray as xr \n",
    "import matplotlib.pyplot as plt\n",
    "import numpy as np\n",
    "\n",
    "%matplotlib widget"
   ]
  }
 ],
 "metadata": {
  "language_info": {
   "name": "python"
  },
  "orig_nbformat": 4
 },
 "nbformat": 4,
 "nbformat_minor": 2
}
