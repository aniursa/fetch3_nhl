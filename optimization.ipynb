{
 "cells": [
  {
   "cell_type": "code",
   "execution_count": 3,
   "metadata": {},
   "outputs": [],
   "source": [
    "from pathlib import Path\n",
    "from fetch3.optimize.run_optimization import run"
   ]
  },
  {
   "cell_type": "code",
   "execution_count": 2,
   "metadata": {},
   "outputs": [
    {
     "data": {
      "text/plain": [
       "PosixPath('/Users/madelinescyphers/projs/fetch/config_files/opt_model_config.yml')"
      ]
     },
     "execution_count": 2,
     "metadata": {},
     "output_type": "execute_result"
    }
   ],
   "source": [
    "config_dir = Path().resolve() / \"config_files/opt_model_config.yml\""
   ]
  },
  {
   "cell_type": "code",
   "execution_count": 5,
   "metadata": {},
   "outputs": [
    {
     "name": "stderr",
     "output_type": "stream",
     "text": [
      "Start time: 20220508T001206\n",
      "Start time: 20220508T001206\n",
      "[INFO 05-08 00:12:06] ax.service.utils.instantiation: Inferred value type of ParameterType.FLOAT for parameter sat_xylem. If that is not the expected value type, you can explicity specify 'value_type' ('int', 'float', 'bool' or 'str') in parameter dict.\n",
      "[INFO 05-08 00:12:06] ax.service.utils.instantiation: Inferred value type of ParameterType.FLOAT for parameter scale_nhl. If that is not the expected value type, you can explicity specify 'value_type' ('int', 'float', 'bool' or 'str') in parameter dict.\n",
      "[INFO 05-08 00:12:06] ax.service.utils.instantiation: Inferred value type of ParameterType.FLOAT for parameter wp_s50. If that is not the expected value type, you can explicity specify 'value_type' ('int', 'float', 'bool' or 'str') in parameter dict.\n",
      "[INFO 05-08 00:12:06] ax.service.utils.instantiation: Inferred value type of ParameterType.FLOAT for parameter c3. If that is not the expected value type, you can explicity specify 'value_type' ('int', 'float', 'bool' or 'str') in parameter dict.\n",
      "[INFO 05-08 00:12:06] ax.service.utils.instantiation: Created search space: SearchSpace(parameters=[FixedParameter(name='Root_depth', parameter_type=FLOAT, value=3.2), FixedParameter(name='Soil_depth', parameter_type=INT, value=5), FixedParameter(name='sand_d', parameter_type=FLOAT, value=5.0), FixedParameter(name='clay_d', parameter_type=FLOAT, value=4.2), FixedParameter(name='cte_clay', parameter_type=INT, value=3), FixedParameter(name='H_init_soilbottom', parameter_type=FLOAT, value=-6.09), FixedParameter(name='H_init_soilmid', parameter_type=FLOAT, value=-0.402), FixedParameter(name='H_init_canopytop', parameter_type=FLOAT, value=-23.3), FixedParameter(name='alpha_1', parameter_type=FLOAT, value=0.8), FixedParameter(name='theta_S1', parameter_type=FLOAT, value=0.55), FixedParameter(name='theta_R1', parameter_type=FLOAT, value=0.068), FixedParameter(name='n_1', parameter_type=FLOAT, value=1.5), FixedParameter(name='m_1', parameter_type=FLOAT, value=0.33333333333333337), FixedParameter(name='Ksat_1', parameter_type=FLOAT, value=1.94e-07), FixedParameter(name='alpha_2', parameter_type=FLOAT, value=14.5), FixedParameter(name='theta_S2', parameter_type=FLOAT, value=0.47), FixedParameter(name='theta_R2', parameter_type=FLOAT, value=0.045), FixedParameter(name='n_2', parameter_type=FLOAT, value=2.4), FixedParameter(name='m_2', parameter_type=FLOAT, value=0.5833333333333333), FixedParameter(name='Ksat_2', parameter_type=FLOAT, value=3.45e-05), FixedParameter(name='theta_1_clay', parameter_type=FLOAT, value=0.08), FixedParameter(name='theta_2_clay', parameter_type=FLOAT, value=0.12), FixedParameter(name='theta_1_sand', parameter_type=FLOAT, value=0.05), FixedParameter(name='theta_2_sand', parameter_type=FLOAT, value=0.09), FixedParameter(name='Kr', parameter_type=FLOAT, value=7.2e-10), FixedParameter(name='qz', parameter_type=INT, value=9), FixedParameter(name='Ksax', parameter_type=FLOAT, value=1e-05), FixedParameter(name='Aind_r', parameter_type=INT, value=1), FixedParameter(name='kmax', parameter_type=FLOAT, value=1e-05), FixedParameter(name='ap', parameter_type=FLOAT, value=2e-06), FixedParameter(name='bp', parameter_type=FLOAT, value=-1500000.0), FixedParameter(name='Phi_0', parameter_type=FLOAT, value=574000000.0), FixedParameter(name='p', parameter_type=INT, value=20), RangeParameter(name='sat_xylem', parameter_type=FLOAT, range=[0.4, 0.7]), FixedParameter(name='taper_top', parameter_type=FLOAT, value=1.0), FixedParameter(name='sapwood_depth', parameter_type=FLOAT, value=5.01), FixedParameter(name='dbh', parameter_type=FLOAT, value=33.5), FixedParameter(name='stand_density_sp', parameter_type=FLOAT, value=53.96), FixedParameter(name='Hspec', parameter_type=FLOAT, value=26.31), FixedParameter(name='LAI', parameter_type=FLOAT, value=0.99), RangeParameter(name='scale_nhl', parameter_type=FLOAT, range=[0.1, 2.0]), FixedParameter(name='mean_crown_area_sp', parameter_type=FLOAT, value=101.4), FixedParameter(name='sum_LAI_plot', parameter_type=FLOAT, value=3.66), FixedParameter(name='Cd', parameter_type=FLOAT, value=0.1), FixedParameter(name='alpha_ml', parameter_type=FLOAT, value=0.1), FixedParameter(name='Cf', parameter_type=FLOAT, value=0.85), FixedParameter(name='x', parameter_type=INT, value=1), FixedParameter(name='Vcmax25', parameter_type=FLOAT, value=59.93), FixedParameter(name='alpha_gs', parameter_type=FLOAT, value=6.6733), FixedParameter(name='alpha_p', parameter_type=INT, value=1), RangeParameter(name='wp_s50', parameter_type=FLOAT, range=[-2000000.0, -100000.0]), RangeParameter(name='c3', parameter_type=FLOAT, range=[0.1, 20.0]), FixedParameter(name='L_m', parameter_type=FLOAT, value=0.4), FixedParameter(name='z_m', parameter_type=INT, value=11), FixedParameter(name='gb', parameter_type=FLOAT, value=0.02), FixedParameter(name='Cp', parameter_type=INT, value=1200), FixedParameter(name='ga', parameter_type=FLOAT, value=0.02), FixedParameter(name='lamb', parameter_type=FLOAT, value=2510000000.0), FixedParameter(name='gama', parameter_type=FLOAT, value=66.7), FixedParameter(name='gsmax', parameter_type=FLOAT, value=0.01), FixedParameter(name='kr', parameter_type=FLOAT, value=0.005), FixedParameter(name='kt', parameter_type=FLOAT, value=0.0016), FixedParameter(name='Topt', parameter_type=FLOAT, value=289.15), FixedParameter(name='kd', parameter_type=FLOAT, value=0.0011), FixedParameter(name='hx50', parameter_type=INT, value=-1274000), FixedParameter(name='nl', parameter_type=INT, value=2), FixedParameter(name='Emax', parameter_type=FLOAT, value=1e-09)], parameter_constraints=[]).\n",
      "[INFO 05-08 00:12:06] ax.modelbridge.dispatch_utils: Using Bayesian optimization since there are more ordered parameters than there are categories for the unordered categorical parameters.\n",
      "[INFO 05-08 00:12:06] ax.modelbridge.dispatch_utils: Using Bayesian Optimization generation strategy: GenerationStrategy(name='Sobol+GPEI', steps=[Sobol for 5 trials, GPEI for subsequent trials]). Iterations after 5 will take longer to generate due to  model-fitting.\n",
      "[INFO 05-08 00:12:06] Scheduler: `Scheduler` requires experiment to have immutable search space and optimization config. Setting property immutable_search_space_and_opt_config to `True` on experiment.\n",
      "[INFO 05-08 00:12:06] Scheduler: Running trials [0]...\n",
      "[INFO 05-08 00:12:06] Scheduler: Waiting for completed trials (for 1 sec, currently running trials: 1).\n",
      "[INFO 05-08 00:12:07] Scheduler: Waiting for completed trials (for 1.5 sec, currently running trials: 1).\n",
      "[INFO 05-08 00:12:08] Scheduler: Waiting for completed trials (for 2 sec, currently running trials: 1).\n",
      "Using config file: output/fetch_UMBS_test_oak5_20220508T001206/000000/config.yml\n",
      "Using output directory: output/fetch_UMBS_test_oak5_20220508T001206/000000\n",
      "Reading config file\n",
      "Calculating initial conditions \n",
      "Running the model \n",
      "[INFO 05-08 00:12:10] Scheduler: Waiting for completed trials (for 3 sec, currently running trials: 1).\n",
      "Calculating NHL...\n",
      "NHL calculations finished in 0.25785207748413086 s\n",
      "Saving NHL output...\n",
      "Interpolating NHL to the time resolution for FETCH3...\n",
      "Saving NHL_modelres output...\n",
      "NHL module finished in 0.2977941036224365 s\n",
      "[INFO 05-08 00:12:14] Scheduler: Waiting for completed trials (for 5 sec, currently running trials: 1).\n",
      "[INFO 05-08 00:12:19] Scheduler: Waiting for completed trials (for 7 sec, currently running trials: 1).\n",
      "calculated time steps: 500\n",
      "[INFO 05-08 00:12:26] Scheduler: Waiting for completed trials (for 11 sec, currently running trials: 1).\n",
      "Saving outputs\n",
      "run time: 23.035512924194336 s\n",
      "run complete\n",
      "[INFO 05-08 00:12:38] Scheduler: Retrieved COMPLETED trials: [0].\n",
      "[INFO 05-08 00:12:38] Scheduler: Fetching data for trials: [0].\n",
      "/Users/madelinescyphers/projs/fetch/fetch3/optimize/fetch_wrapper.py:185: FutureWarning: Indexing a timezone-aware DatetimeIndex with a timezone-naive datetime is deprecated and will raise KeyError in a future version. Use a timezone-aware object instead.\n",
      "  obsdf = obsdf.loc[modeldf.time.data[0]:modeldf.time.data[-1]]\n",
      "\n",
      "Trials completed! Total run time: 34\n",
      "\n",
      "Trials completed! Total run time: 34\n"
     ]
    }
   ],
   "source": [
    "scheduler = run(config_dir)"
   ]
  },
  {
   "cell_type": "code",
   "execution_count": null,
   "metadata": {},
   "outputs": [],
   "source": [
    "experiment.fetch_data().df"
   ]
  }
 ],
 "metadata": {
  "interpreter": {
   "hash": "0698dfb6f18cc8f3536e42ea577de9466b8d2e49916f41d53e3c3d48356b2a59"
  },
  "kernelspec": {
   "display_name": "Python 3.9.12 ('fetch3-dev')",
   "language": "python",
   "name": "python3"
  },
  "language_info": {
   "codemirror_mode": {
    "name": "ipython",
    "version": 3
   },
   "file_extension": ".py",
   "mimetype": "text/x-python",
   "name": "python",
   "nbconvert_exporter": "python",
   "pygments_lexer": "ipython3",
   "version": "3.9.12"
  },
  "orig_nbformat": 4
 },
 "nbformat": 4,
 "nbformat_minor": 2
}
